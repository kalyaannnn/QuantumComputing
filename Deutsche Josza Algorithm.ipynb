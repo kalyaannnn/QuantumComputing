{
 "cells": [
  {
   "cell_type": "code",
   "execution_count": 1,
   "id": "4469f3eb-4988-49ac-878b-0fc64b4c9707",
   "metadata": {},
   "outputs": [],
   "source": [
    "import numpy as np\n",
    "\n",
    "# Importing standard Qiskit libraries\n",
    "from qiskit import IBMQ, BasicAer\n",
    "from qiskit.providers.ibmq import least_busy\n",
    "from qiskit import QuantumCircuit, execute\n",
    "from qiskit.tools.jupyter import *\n",
    "\n",
    "# Loading your IBM Quantum account(s)\n",
    "provider = IBMQ.load_account()"
   ]
  },
  {
   "cell_type": "code",
   "execution_count": 2,
   "id": "983768a8-7dbe-44f0-a404-637e68cbbb61",
   "metadata": {},
   "outputs": [],
   "source": [
    "from qiskit.visualization import plot_histogram"
   ]
  },
  {
   "cell_type": "code",
   "execution_count": 3,
   "id": "4dd48849-e97d-446e-85eb-ec4a4db98c64",
   "metadata": {},
   "outputs": [],
   "source": [
    "def dj_oracle(case, n):\n",
    "    oracle_qc = QuantumCircuit(n+1)\n",
    "    \n",
    "    if case == 'balanced':\n",
    "        for qubit in range(n):\n",
    "            oracle_qc.cx(qubit, n)\n",
    "            \n",
    "    if case == 'constant':\n",
    "        output = np.random.randint(2)\n",
    "        if output == 1:\n",
    "            oracle_qc.x(n)\n",
    "            \n",
    "    oracle_gate = oracle_qc.to_gate()\n",
    "    oracle_gate.name = 'ORacle'\n",
    "    return oracle_gate\n",
    "        "
   ]
  },
  {
   "cell_type": "code",
   "execution_count": 4,
   "id": "26d695be-8960-4730-971f-c31de7dfdc0b",
   "metadata": {},
   "outputs": [],
   "source": [
    "def dj_algorithm(n, case = \"random\"):\n",
    "    dj_circuit = QuantumCircuit(n+1, n)\n",
    "    for qubit in range(n):\n",
    "        dj_circuit.h(qubit)\n",
    "    \n",
    "    dj_circuit.x(n)\n",
    "    dj_circuit.h(n)\n",
    "    \n",
    "    if case == \"random\":\n",
    "        random = np.random.randint(2)\n",
    "        if random == 0:\n",
    "            case = 'constant'\n",
    "        else:\n",
    "            case = 'balanced'\n",
    "    \n",
    "    oracle = dj_oracle(case, n)\n",
    "    dj_circuit.append(oracle, range(n+1))\n",
    "    \n",
    "    for i in range(n):\n",
    "        dj_circuit.h(i)\n",
    "        dj_circuit.measure(i,i)\n",
    "    return dj_circuit"
   ]
  },
  {
   "cell_type": "code",
   "execution_count": 5,
   "id": "2b2ff06d-f96d-474a-8858-babc2e6017aa",
   "metadata": {},
   "outputs": [
    {
     "data": {
      "image/png": "[encoded data removed]",
      "text/plain": [
       "<Figure size 628.397x385.28 with 1 Axes>"
      ]
     },
     "execution_count": 5,
     "metadata": {},
     "output_type": "execute_result"
    }
   ],
   "source": [
    "n = 4\n",
    "dj_circuit = dj_algorithm(n)\n",
    "dj_circuit.draw()"
   ]
  },
  {
   "cell_type": "code",
   "execution_count": 6,
   "id": "918a51c4-596d-4f84-896c-4f939a1e94c2",
   "metadata": {},
   "outputs": [
    {
     "data": {
      "image/png": "[encoded data removed]",
      "text/plain": [
       "<Figure size 504x360 with 1 Axes>"
      ]
     },
     "execution_count": 6,
     "metadata": {},
     "output_type": "execute_result"
    }
   ],
   "source": [
    "backend = BasicAer.get_backend('qasm_simulator')\n",
    "shots = 1024\n",
    "dj_circuit = dj_algorithm(n, 'constant')\n",
    "results = execute(dj_circuit, backend = backend, shots = shots).result()\n",
    "answer = results.get_counts()\n",
    "\n",
    "plot_histogram(answer)"
   ]
  },
  {
   "cell_type": "code",
   "execution_count": 7,
   "id": "958f54d2-7db5-46a3-8506-26eb23a97f97",
   "metadata": {},
   "outputs": [
    {
     "name": "stdout",
     "output_type": "stream",
     "text": [
      "Least Busy Backend ibmq_lima\n"
     ]
    },
    {
     "data": {
      "application/vnd.jupyter.widget-view+json": {
       "model_id": "1c40d871fb214f1eaee4b8015ae5784c",
       "version_major": 2,
       "version_minor": 0
      },
      "text/plain": [
       "Accordion(children=(VBox(layout=Layout(max_width='710px', min_width='710px')),), layout=Layout(max_height='500…"
      ]
     },
     "metadata": {},
     "output_type": "display_data"
    },
    {
     "data": {
      "application/javascript": [
       "\n",
       "        const isLab = window['Jupyter'] === undefined;\n",
       "        const notebook = document.querySelector( isLab ? 'div.jp-Notebook' : '#site');\n",
       "        const jobWidget = document.querySelector('div.job_widget');\n",
       "        notebook.prepend(jobWidget);\n",
       "        jobWidget.style.zIndex = '999';\n",
       "        jobWidget.style.position = isLab ? 'sticky' : 'fixed';\n",
       "        jobWidget.style.boxShadow = '5px 5px 5px -3px black';\n",
       "        jobWidget.style.opacity = '0.95';\n",
       "        if (isLab) {\n",
       "            jobWidget.style.top = '0';\n",
       "            jobWidget.style.left = '0';\n",
       "        }\n",
       "        "
      ],
      "text/plain": [
       "<IPython.core.display.Javascript object>"
      ]
     },
     "metadata": {},
     "output_type": "display_data"
    }
   ],
   "source": [
    "backend = least_busy(provider.backends(filters = lambda x : x.configuration().n_qubits >= (n+1) and \n",
    "                                       not x.configuration().simulator and x.status().operational == True))\n",
    "print(\"Least Busy Backend\", backend)                    \n",
    "%qiskit_job_watcher\n",
    "dj_circuit = dj_algorithm(n)\n",
    "job = execute(dj_circuit, backend = backend, shots = shots, optimization_level = 3)\n",
    "                     \n"
   ]
  },
  {
   "cell_type": "code",
   "execution_count": null,
   "id": "42c78908-f12d-439e-ae78-9f0e660f5fd8",
   "metadata": {},
   "outputs": [],
   "source": [
    "results = job.result()\n",
    "answer = results.get_counts()\n",
    "plot_histogram(answers)"
   ]
  }
 ],
 "metadata": {
  "kernelspec": {
   "display_name": "Python 3 (ipykernel)",
   "language": "python",
   "name": "python3"
  },
  "language_info": {
   "codemirror_mode": {
    "name": "ipython",
    "version": 3
   },
   "file_extension": ".py",
   "mimetype": "text/x-python",
   "name": "python",
   "nbconvert_exporter": "python",
   "pygments_lexer": "ipython3",
   "version": "3.8.15"
  },
  "widgets": {
   "application/vnd.jupyter.widget-state+json": {
    "state": {
     "10335f84d03445e6af5b0244f2eb507f": {
      "model_module": "@jupyter-widgets/controls",
      "model_module_version": "1.5.0",
      "model_name": "HTMLModel",
      "state": {
       "layout": "IPY_MODEL_92d2bfaf0bb644dbaf563ee8f2f72ad3",
       "style": "IPY_MODEL_186ea430d6884e88843d2f5cba4fafde",
       "value": "<h5>Status</h5>"
      }
     },
     "1131fa32c63047a6a7f4a565dca3d2b4": {
      "model_module": "@jupyter-widgets/controls",
      "model_module_version": "1.5.0",
      "model_name": "HTMLModel",
      "state": {
       "layout": "IPY_MODEL_b7f9da9f45be4894ba3dd5b19861f3b4",
       "style": "IPY_MODEL_94caedc315b94f6d98621698eded4d8e",
       "value": "-"
      }
     },
     "15d6aa70c85e46c4b99c4d39c11eb7ac": {
      "model_module": "@jupyter-widgets/controls",
      "model_module_version": "1.5.0",
      "model_name": "DescriptionStyleModel",
      "state": {
       "description_width": ""
      }
     },
     "186ea430d6884e88843d2f5cba4fafde": {
      "model_module": "@jupyter-widgets/controls",
      "model_module_version": "1.5.0",
      "model_name": "DescriptionStyleModel",
      "state": {
       "description_width": ""
      }
     },
     "1c40d871fb214f1eaee4b8015ae5784c": {
      "model_module": "@jupyter-widgets/controls",
      "model_module_version": "1.5.0",
      "model_name": "AccordionModel",
      "state": {
       "_dom_classes": [
        "job_widget"
       ],
       "_titles": {
        "0": "IBMQ Jobs"
       },
       "children": [
        "IPY_MODEL_2e1b39e0daec4e2a9a10df930a624b6b"
       ],
       "layout": "IPY_MODEL_91ad3950cc38409cb5e3bde114fe99fc",
       "selected_index": null
      }
     },
     "1d7c4f71f0804fc6afe5ace9db30d3d9": {
      "model_module": "@jupyter-widgets/controls",
      "model_module_version": "1.5.0",
      "model_name": "HTMLModel",
      "state": {
       "layout": "IPY_MODEL_9b3907ff3b42468389c2ba101ee715cc",
       "style": "IPY_MODEL_436ced656b754e51b610c9f1b4ce210e",
       "value": "<h5>Queue</h5>"
      }
     },
     "266f95efd0b3445a87df37ad57d56c1e": {
      "model_module": "@jupyter-widgets/base",
      "model_module_version": "1.2.0",
      "model_name": "LayoutModel",
      "state": {
       "width": "190px"
      }
     },
     "2b6defe0b7b441929faa3706815cbab5": {
      "model_module": "@jupyter-widgets/controls",
      "model_module_version": "1.5.0",
      "model_name": "HBoxModel",
      "state": {
       "children": [
        "IPY_MODEL_d9b142c0e8524db9b963cf840bc3cebc",
        "IPY_MODEL_de6b00d0e9174b80a29e7d0c9d050112",
        "IPY_MODEL_433566bb24da438caf9b99051992c0ec",
        "IPY_MODEL_bb65489882f64dc298984e6a1653aadd",
        "IPY_MODEL_1131fa32c63047a6a7f4a565dca3d2b4",
        "IPY_MODEL_b75e8817331b4b2691cf46a10ea2713a"
       ],
       "layout": "IPY_MODEL_2db1e2ee78fc4be1aea49640a7b203d5"
      }
     },
     "2db1e2ee78fc4be1aea49640a7b203d5": {
      "model_module": "@jupyter-widgets/base",
      "model_module_version": "1.2.0",
      "model_name": "LayoutModel",
      "state": {
       "max_width": "700px",
       "min_width": "700px"
      }
     },
     "2e1b39e0daec4e2a9a10df930a624b6b": {
      "model_module": "@jupyter-widgets/controls",
      "model_module_version": "1.5.0",
      "model_name": "VBoxModel",
      "state": {
       "children": [
        "IPY_MODEL_a12270d1d27744689b2a8faa1862b145",
        "IPY_MODEL_e53cd95bca8d4d90a03f0b009274908c",
        "IPY_MODEL_2b6defe0b7b441929faa3706815cbab5"
       ],
       "layout": "IPY_MODEL_e8479936718f47b09576f7153b413736"
      }
     },
     "2ee678db1e26427dbcc474bb0bf2b704": {
      "model_module": "@jupyter-widgets/base",
      "model_module_version": "1.2.0",
      "model_name": "LayoutModel",
      "state": {
       "overflow_x": "scroll"
      }
     },
     "2f10ac083c484eeea95697c76888fa1e": {
      "model_module": "@jupyter-widgets/base",
      "model_module_version": "1.2.0",
      "model_name": "LayoutModel",
      "state": {
       "width": "145px"
      }
     },
     "356ea8e9b967411eaa5ec36df153fde3": {
      "model_module": "@jupyter-widgets/base",
      "model_module_version": "1.2.0",
      "model_name": "LayoutModel",
      "state": {
       "margin": "0px 0px 0px 37px",
       "width": "600px"
      }
     },
     "38a4370d7f3947ea9155ca45137ccbbf": {
      "model_module": "@jupyter-widgets/base",
      "model_module_version": "1.2.0",
      "model_name": "LayoutModel",
      "state": {
       "grid_area": "right",
       "padding": "0px 0px 0px 0px",
       "width": "70px"
      }
     },
     "433566bb24da438caf9b99051992c0ec": {
      "model_module": "@jupyter-widgets/controls",
      "model_module_version": "1.5.0",
      "model_name": "HTMLModel",
      "state": {
       "layout": "IPY_MODEL_7e14b6aad4de41a8afce0e4714b008d3",
       "style": "IPY_MODEL_96f474784cd44ad7bdb17f0603925091",
       "value": "ibmq_lima"
      }
     },
     "436ced656b754e51b610c9f1b4ce210e": {
      "model_module": "@jupyter-widgets/controls",
      "model_module_version": "1.5.0",
      "model_name": "DescriptionStyleModel",
      "state": {
       "description_width": ""
      }
     },
     "58099fbb9ef948a689b7a0071b3afde3": {
      "model_module": "@jupyter-widgets/controls",
      "model_module_version": "1.5.0",
      "model_name": "DescriptionStyleModel",
      "state": {
       "description_width": ""
      }
     },
     "5fe3fcce006f4c90b06e7e9a169452b8": {
      "model_module": "@jupyter-widgets/controls",
      "model_module_version": "1.5.0",
      "model_name": "HTMLModel",
      "state": {
       "layout": "IPY_MODEL_2f10ac083c484eeea95697c76888fa1e",
       "style": "IPY_MODEL_15d6aa70c85e46c4b99c4d39c11eb7ac",
       "value": "<h5>Backend</h5>"
      }
     },
     "64c3452a38b64836a5af932893045524": {
      "model_module": "@jupyter-widgets/base",
      "model_module_version": "1.2.0",
      "model_name": "LayoutModel",
      "state": {
       "margin": "0px 0px 10px 0px"
      }
     },
     "6940b530344b46c9bc7c0c0f84d1d517": {
      "model_module": "@jupyter-widgets/controls",
      "model_module_version": "1.5.0",
      "model_name": "ButtonStyleModel",
      "state": {
       "button_color": "white"
      }
     },
     "6b1d2a24a2fa4232abdfefdba76c12cf": {
      "model_module": "@jupyter-widgets/base",
      "model_module_version": "1.2.0",
      "model_name": "LayoutModel",
      "state": {
       "grid_template_areas": "\n                                       \". . . . right \"\n                                        ",
       "grid_template_columns": "20% 20% 20% 20% 20%",
       "width": "100%"
      }
     },
     "7e14b6aad4de41a8afce0e4714b008d3": {
      "model_module": "@jupyter-widgets/base",
      "model_module_version": "1.2.0",
      "model_name": "LayoutModel",
      "state": {
       "width": "145px"
      }
     },
     "8e05e6e3e5724491b0c5fd42aa24b8aa": {
      "model_module": "@jupyter-widgets/base",
      "model_module_version": "1.2.0",
      "model_name": "LayoutModel",
      "state": {
       "width": "95px"
      }
     },
     "91ad3950cc38409cb5e3bde114fe99fc": {
      "model_module": "@jupyter-widgets/base",
      "model_module_version": "1.2.0",
      "model_name": "LayoutModel",
      "state": {
       "max_height": "500px",
       "max_width": "750px",
       "overflow_x": "hidden",
       "overflow_y": "scroll",
       "visibility": "visible",
       "width": "auto"
      }
     },
     "92d2bfaf0bb644dbaf563ee8f2f72ad3": {
      "model_module": "@jupyter-widgets/base",
      "model_module_version": "1.2.0",
      "model_name": "LayoutModel",
      "state": {
       "width": "95px"
      }
     },
     "94caedc315b94f6d98621698eded4d8e": {
      "model_module": "@jupyter-widgets/controls",
      "model_module_version": "1.5.0",
      "model_name": "DescriptionStyleModel",
      "state": {
       "description_width": ""
      }
     },
     "96f474784cd44ad7bdb17f0603925091": {
      "model_module": "@jupyter-widgets/controls",
      "model_module_version": "1.5.0",
      "model_name": "DescriptionStyleModel",
      "state": {
       "description_width": ""
      }
     },
     "9b3907ff3b42468389c2ba101ee715cc": {
      "model_module": "@jupyter-widgets/base",
      "model_module_version": "1.2.0",
      "model_name": "LayoutModel",
      "state": {
       "width": "70px"
      }
     },
     "a12270d1d27744689b2a8faa1862b145": {
      "model_module": "@jupyter-widgets/controls",
      "model_module_version": "1.5.0",
      "model_name": "GridBoxModel",
      "state": {
       "children": [
        "IPY_MODEL_ae7104c5f1d94be4985dbc78a3012b80"
       ],
       "layout": "IPY_MODEL_6b1d2a24a2fa4232abdfefdba76c12cf"
      }
     },
     "a30923f0fc0e442d8dd3f5cf76db19d2": {
      "model_module": "@jupyter-widgets/base",
      "model_module_version": "1.2.0",
      "model_name": "LayoutModel",
      "state": {}
     },
     "a8576853b2d641aea45497c533846653": {
      "model_module": "@jupyter-widgets/controls",
      "model_module_version": "1.5.0",
      "model_name": "DescriptionStyleModel",
      "state": {
       "description_width": ""
      }
     },
     "aa87c681bf6743058cbb4b65ac229cf8": {
      "model_module": "@jupyter-widgets/controls",
      "model_module_version": "1.5.0",
      "model_name": "HTMLModel",
      "state": {
       "layout": "IPY_MODEL_266f95efd0b3445a87df37ad57d56c1e",
       "style": "IPY_MODEL_ca98dfc29861428cb2c1c4bbc8cb1698",
       "value": "<h5>Job ID</h5>"
      }
     },
     "ae7104c5f1d94be4985dbc78a3012b80": {
      "model_module": "@jupyter-widgets/controls",
      "model_module_version": "1.5.0",
      "model_name": "ButtonModel",
      "state": {
       "button_style": "primary",
       "description": "Clear",
       "layout": "IPY_MODEL_38a4370d7f3947ea9155ca45137ccbbf",
       "style": "IPY_MODEL_fd1688f594c04876ac0729fb12a43908"
      }
     },
     "b75e8817331b4b2691cf46a10ea2713a": {
      "model_module": "@jupyter-widgets/controls",
      "model_module_version": "1.5.0",
      "model_name": "HTMLModel",
      "state": {
       "layout": "IPY_MODEL_2ee678db1e26427dbcc474bb0bf2b704",
       "style": "IPY_MODEL_ec41269715704dcca0ec6e9db4ab02b3",
       "value": "<p style=white-space:nowrap;>job is being validated</p>"
      }
     },
     "b7f9da9f45be4894ba3dd5b19861f3b4": {
      "model_module": "@jupyter-widgets/base",
      "model_module_version": "1.2.0",
      "model_name": "LayoutModel",
      "state": {
       "width": "70px"
      }
     },
     "bb65489882f64dc298984e6a1653aadd": {
      "model_module": "@jupyter-widgets/controls",
      "model_module_version": "1.5.0",
      "model_name": "HTMLModel",
      "state": {
       "layout": "IPY_MODEL_8e05e6e3e5724491b0c5fd42aa24b8aa",
       "style": "IPY_MODEL_58099fbb9ef948a689b7a0071b3afde3",
       "value": "VALIDATING"
      }
     },
     "ca98dfc29861428cb2c1c4bbc8cb1698": {
      "model_module": "@jupyter-widgets/controls",
      "model_module_version": "1.5.0",
      "model_name": "DescriptionStyleModel",
      "state": {
       "description_width": ""
      }
     },
     "cc5c5a9aef3c440a8c35e0c48e7b3343": {
      "model_module": "@jupyter-widgets/base",
      "model_module_version": "1.2.0",
      "model_name": "LayoutModel",
      "state": {
       "margin": "0px 5px 0px 0px",
       "width": "32px"
      }
     },
     "d5d4c86ac445429a93c92833221fc02a": {
      "model_module": "@jupyter-widgets/controls",
      "model_module_version": "1.5.0",
      "model_name": "DescriptionStyleModel",
      "state": {
       "description_width": ""
      }
     },
     "d7afaa1fa7e54019918184f1647dbb94": {
      "model_module": "@jupyter-widgets/controls",
      "model_module_version": "1.5.0",
      "model_name": "HTMLModel",
      "state": {
       "layout": "IPY_MODEL_64c3452a38b64836a5af932893045524",
       "style": "IPY_MODEL_a8576853b2d641aea45497c533846653",
       "value": "<p style='font-family: IBM Plex Sans, Arial, Helvetica, sans-serif; font-size: 20px; font-weight: medium;'>Circuit Properties</p>"
      }
     },
     "d9b142c0e8524db9b963cf840bc3cebc": {
      "model_module": "@jupyter-widgets/controls",
      "model_module_version": "1.5.0",
      "model_name": "ButtonModel",
      "state": {
       "icon": "close",
       "layout": "IPY_MODEL_cc5c5a9aef3c440a8c35e0c48e7b3343",
       "style": "IPY_MODEL_6940b530344b46c9bc7c0c0f84d1d517"
      }
     },
     "dbaaee27b3b94859a36bd438ed67a9c8": {
      "model_module": "@jupyter-widgets/controls",
      "model_module_version": "1.5.0",
      "model_name": "HTMLModel",
      "state": {
       "layout": "IPY_MODEL_a30923f0fc0e442d8dd3f5cf76db19d2",
       "style": "IPY_MODEL_dfa926e1e5b8492abc786bd4654b051d",
       "value": "<h5>Message</h5>"
      }
     },
     "de6b00d0e9174b80a29e7d0c9d050112": {
      "model_module": "@jupyter-widgets/controls",
      "model_module_version": "1.5.0",
      "model_name": "HTMLModel",
      "state": {
       "layout": "IPY_MODEL_f0a0a3fbdf4a4e7a90c46d3fe9460f95",
       "style": "IPY_MODEL_d5d4c86ac445429a93c92833221fc02a",
       "value": "63fcfbd06d83144ac94b66c9"
      }
     },
     "dfa926e1e5b8492abc786bd4654b051d": {
      "model_module": "@jupyter-widgets/controls",
      "model_module_version": "1.5.0",
      "model_name": "DescriptionStyleModel",
      "state": {
       "description_width": ""
      }
     },
     "e53cd95bca8d4d90a03f0b009274908c": {
      "model_module": "@jupyter-widgets/controls",
      "model_module_version": "1.5.0",
      "model_name": "HBoxModel",
      "state": {
       "children": [
        "IPY_MODEL_aa87c681bf6743058cbb4b65ac229cf8",
        "IPY_MODEL_5fe3fcce006f4c90b06e7e9a169452b8",
        "IPY_MODEL_10335f84d03445e6af5b0244f2eb507f",
        "IPY_MODEL_1d7c4f71f0804fc6afe5ace9db30d3d9",
        "IPY_MODEL_dbaaee27b3b94859a36bd438ed67a9c8"
       ],
       "layout": "IPY_MODEL_356ea8e9b967411eaa5ec36df153fde3"
      }
     },
     "e8479936718f47b09576f7153b413736": {
      "model_module": "@jupyter-widgets/base",
      "model_module_version": "1.2.0",
      "model_name": "LayoutModel",
      "state": {
       "max_width": "710px",
       "min_width": "710px"
      }
     },
     "ec41269715704dcca0ec6e9db4ab02b3": {
      "model_module": "@jupyter-widgets/controls",
      "model_module_version": "1.5.0",
      "model_name": "DescriptionStyleModel",
      "state": {
       "description_width": ""
      }
     },
     "f0a0a3fbdf4a4e7a90c46d3fe9460f95": {
      "model_module": "@jupyter-widgets/base",
      "model_module_version": "1.2.0",
      "model_name": "LayoutModel",
      "state": {
       "width": "190px"
      }
     },
     "fd1688f594c04876ac0729fb12a43908": {
      "model_module": "@jupyter-widgets/controls",
      "model_module_version": "1.5.0",
      "model_name": "ButtonStyleModel",
      "state": {}
     }
    },
    "version_major": 2,
    "version_minor": 0
   }
  }
 },
 "nbformat": 4,
 "nbformat_minor": 5
}
