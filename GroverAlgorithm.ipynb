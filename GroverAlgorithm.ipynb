{
 "cells": [
  {
   "cell_type": "code",
   "execution_count": 1,
   "id": "9ca8dbaa-565e-4363-8c7b-1b9050ac9607",
   "metadata": {},
   "outputs": [],
   "source": [
    "import numpy as np\n",
    "from qiskit import IBMQ, QuantumCircuit, Aer, execute\n",
    "from qiskit.quantum_info import Operator\n",
    "from qiskit.providers.ibmq import least_busy\n",
    "from qiskit.visualization import plot_histogram\n",
    "from qiskit.tools.jupyter import *\n",
    "provider = IBMQ.load_account()\n",
    "import warnings\n",
    "warnings.filterwarnings('ignore')"
   ]
  },
  {
   "cell_type": "code",
   "execution_count": 2,
   "id": "f8d33715-3d8d-469e-9efe-9347d9c6c169",
   "metadata": {},
   "outputs": [],
   "source": [
    "def phase_oracle(n, indices_to_mark, name = 'Oracle'):\n",
    "    qc = QuantumCircuit(n, name = name)\n",
    "    oracle_matrix = np.identity(2**n)\n",
    "    for index_to_mark in indices_to_mark:\n",
    "        oracle_matrix[index_to_mark, index_to_mark] = -1\n",
    "        qc.unitary(Operator(oracle_matrix), range(n))\n",
    "    return qc\n",
    "       \n",
    "        \n",
    "def diffuser(n):\n",
    "    qc = QuantumCircuit(n, name = 'Diff -V')\n",
    "    qc.h(range(n))\n",
    "    qc.append(phase_oracle(n, [0]), range(n))\n",
    "    qc.h(range(n))\n",
    "    return qc\n",
    "    \n",
    "def Grover(n, marked):\n",
    "    qc = QuantumCircuit(n, n)\n",
    "    r = int(np.round(np.pi/(4*np.arcsin(np.sqrt(len(marked)/2**n)))-1/2))\n",
    "    print(f'{n} qubits, basis states {marked} marked, {r} rounds')\n",
    "    qc.h(range(n))\n",
    "    for _ in range (r):\n",
    "        qc.append(phase_oracle(n, marked), range(n))\n",
    "        qc.append(diffuser(n), range(n))\n",
    "    return qc"
   ]
  },
  {
   "cell_type": "code",
   "execution_count": 3,
   "id": "7c8db956-5366-46a2-8c23-2a4b17cb2bc7",
   "metadata": {},
   "outputs": [
    {
     "name": "stdout",
     "output_type": "stream",
     "text": [
      "5 qubits, basis states [13] marked, 4 rounds\n"
     ]
    },
    {
     "data": {
      "image/png": "[encoded data removed]",
      "text/plain": [
       "<Figure size 1110x385.28 with 1 Axes>"
      ]
     },
     "execution_count": 3,
     "metadata": {},
     "output_type": "execute_result"
    }
   ],
   "source": [
    "n = 5\n",
    "x = np.random.randint(2**n)\n",
    "marked = [x]\n",
    "qc = Grover(n, marked)\n",
    "\n",
    "qc.draw()"
   ]
  },
  {
   "cell_type": "code",
   "execution_count": 4,
   "id": "da51daa1-fbd3-4a5b-9f7e-65b4d40ca5cc",
   "metadata": {},
   "outputs": [
    {
     "name": "stdout",
     "output_type": "stream",
     "text": [
      "Traceback \u001b[1;36m(most recent call last)\u001b[0m:\n",
      "  Input \u001b[0;32mIn [4]\u001b[0m in \u001b[0;35m<cell line: 3>\u001b[0m\n",
      "    counts = result.get_counts(qc)\n",
      "\u001b[1;36m  File \u001b[1;32m/opt/conda/lib/python3.8/site-packages/qiskit/result/result.py:289\u001b[1;36m in \u001b[1;35mget_counts\u001b[1;36m\u001b[0m\n",
      "\u001b[1;33m    raise QiskitError(f'No counts for experiment \"{repr(key)}\"')\u001b[0m\n",
      "\u001b[1;31mQiskitError\u001b[0m\u001b[1;31m:\u001b[0m 'No counts for experiment \"<qiskit.circuit.quantumcircuit.QuantumCircuit object at 0x7fa7e1583820>\"'\n",
      "\n",
      "Use %tb to get the full traceback.\n"
     ]
    },
    {
     "data": {
      "text/html": [
       "\n",
       "<style>\n",
       ".button {\n",
       "  border: none;\n",
       "  color: white;\n",
       "  padding: 4px 8px;\n",
       "  text-align: center;\n",
       "  text-decoration: none;\n",
       "  display: inline-block;\n",
       "  font-size: 12px;\n",
       "  margin: 4px 2px;\n",
       "  transition-duration: 0.2s;\n",
       "  cursor: pointer;\n",
       "}\n",
       ".iqx-button {\n",
       "  background-color: #0f62fe; \n",
       "  color: white; \n",
       "}\n",
       ".iqx-button:hover {\n",
       "  background-color: #0043ce;\n",
       "  color: white;\n",
       "}\n",
       "</style>\n",
       "<a href=\"https://stackoverflow.com/search?q=QiskitError: No counts for experiment \"<qiskit.circuit.quantumcircuit.QuantumCircuit object at 0x7fa7e1583820>\"\" target='_blank'><button class='button iqx-button'>Search for solution online</button></a>\n"
      ],
      "text/plain": [
       "<IPython.core.display.HTML object>"
      ]
     },
     "metadata": {},
     "output_type": "display_data"
    }
   ],
   "source": [
    "backend = Aer.get_backend('qasm_simulator')\n",
    "result = execute(qc, backend, shots = 10000, optimization_level = 1).result()\n",
    "counts = result.get_counts(qc)\n",
    "print(counts)\n",
    "print(np.round(np.pi/(4*np.arcsin(np.sqrt(len(marked)/2**n)))-1/2))\n",
    "plot_histogram(counts)"
   ]
  },
  {
   "cell_type": "code",
   "execution_count": 5,
   "id": "049ab9ca-b013-4ba0-bc48-a7d164d6e823",
   "metadata": {},
   "outputs": [
    {
     "name": "stdout",
     "output_type": "stream",
     "text": [
      "3 qubits, basis states [7, 5] marked, 1 rounds\n",
      "Least Busy Backend ibmq_quito\n"
     ]
    },
    {
     "data": {
      "application/vnd.jupyter.widget-view+json": {
       "model_id": "12b871c6a2bd4624ba30a470fdc8e1c1",
       "version_major": 2,
       "version_minor": 0
      },
      "text/plain": [
       "Accordion(children=(VBox(layout=Layout(max_width='710px', min_width='710px')),), layout=Layout(max_height='500…"
      ]
     },
     "metadata": {},
     "output_type": "display_data"
    },
    {
     "data": {
      "application/javascript": [
       "\n",
       "        const isLab = window['Jupyter'] === undefined;\n",
       "        const notebook = document.querySelector( isLab ? 'div.jp-Notebook' : '#site');\n",
       "        const jobWidget = document.querySelector('div.job_widget');\n",
       "        notebook.prepend(jobWidget);\n",
       "        jobWidget.style.zIndex = '999';\n",
       "        jobWidget.style.position = isLab ? 'sticky' : 'fixed';\n",
       "        jobWidget.style.boxShadow = '5px 5px 5px -3px black';\n",
       "        jobWidget.style.opacity = '0.95';\n",
       "        if (isLab) {\n",
       "            jobWidget.style.top = '0';\n",
       "            jobWidget.style.left = '0';\n",
       "        }\n",
       "        "
      ],
      "text/plain": [
       "<IPython.core.display.Javascript object>"
      ]
     },
     "metadata": {},
     "output_type": "display_data"
    },
    {
     "name": "stdout",
     "output_type": "stream",
     "text": [
      "63fe40e94b1d564cec57a857\n"
     ]
    }
   ],
   "source": [
    "n = 3\n",
    "x = np.random.randint(2**n)\n",
    "y = np.random.randint(2**n)\n",
    "while y==x:\n",
    "    y = np.random.randint(2**n)\n",
    "marked = [x, y]\n",
    "qc = Grover(n, marked)\n",
    "\n",
    "backend = least_busy(provider.backends(filters = lambda x : x.configuration().n_qubits >= (n+1) and \n",
    "                                       not x.configuration().simulator and x.status().operational == True))\n",
    "print(\"Least Busy Backend\", backend)\n",
    "%qiskit_job_watcher\n",
    "shots = 1024\n",
    "job = execute(qc, backend = backend, shots = shots, optimization_level = 3)\n",
    "print(job.job_id())\n"
   ]
  },
  {
   "cell_type": "code",
   "execution_count": null,
   "id": "43df1c95-c5e9-485d-8e51-2f36950a2b76",
   "metadata": {},
   "outputs": [],
   "source": []
  }
 ],
 "metadata": {
  "kernelspec": {
   "display_name": "Python 3 (ipykernel)",
   "language": "python",
   "name": "python3"
  },
  "language_info": {
   "codemirror_mode": {
    "name": "ipython",
    "version": 3
   },
   "file_extension": ".py",
   "mimetype": "text/x-python",
   "name": "python",
   "nbconvert_exporter": "python",
   "pygments_lexer": "ipython3",
   "version": "3.8.15"
  },
  "widgets": {
   "application/vnd.jupyter.widget-state+json": {
    "state": {
     "052d27dd3a7249c990c2dddc6c1655eb": {
      "model_module": "@jupyter-widgets/controls",
      "model_module_version": "1.5.0",
      "model_name": "DescriptionStyleModel",
      "state": {
       "description_width": ""
      }
     },
     "05a888f06be0441ba4a91aceab0aafc8": {
      "model_module": "@jupyter-widgets/controls",
      "model_module_version": "1.5.0",
      "model_name": "HTMLModel",
      "state": {
       "layout": "IPY_MODEL_30cbea23c4bd4196a287d55cdfcb2abb",
       "style": "IPY_MODEL_f0c529be3d354281984d69df8a458161",
       "value": "<h5>Status</h5>"
      }
     },
     "0d80d06d1eb945499d0e7ede48056a3f": {
      "model_module": "@jupyter-widgets/controls",
      "model_module_version": "1.5.0",
      "model_name": "DescriptionStyleModel",
      "state": {
       "description_width": ""
      }
     },
     "12b871c6a2bd4624ba30a470fdc8e1c1": {
      "model_module": "@jupyter-widgets/controls",
      "model_module_version": "1.5.0",
      "model_name": "AccordionModel",
      "state": {
       "_dom_classes": [
        "job_widget"
       ],
       "_titles": {
        "0": "IBMQ Jobs"
       },
       "children": [
        "IPY_MODEL_98926506e4244249aedd81d51e3f360c"
       ],
       "layout": "IPY_MODEL_918c32830624422484e673efd01cd1a0",
       "selected_index": null
      }
     },
     "18df7b2e711b46ad8a935e53115d3bf9": {
      "model_module": "@jupyter-widgets/controls",
      "model_module_version": "1.5.0",
      "model_name": "HTMLModel",
      "state": {
       "layout": "IPY_MODEL_6bdd69fbbd6a4b538ac5078932c2425e",
       "style": "IPY_MODEL_0d80d06d1eb945499d0e7ede48056a3f",
       "value": "job is queued"
      }
     },
     "1b2c2942ae7d4c1ebf9ba5fda9761813": {
      "model_module": "@jupyter-widgets/controls",
      "model_module_version": "1.5.0",
      "model_name": "DescriptionStyleModel",
      "state": {
       "description_width": ""
      }
     },
     "23a6218f2a294920a3d0745781b9c142": {
      "model_module": "@jupyter-widgets/base",
      "model_module_version": "1.2.0",
      "model_name": "LayoutModel",
      "state": {
       "margin": "0px 5px 0px 0px",
       "width": "32px"
      }
     },
     "27ec1cf18fb246ddb45498a0b6ffebb4": {
      "model_module": "@jupyter-widgets/controls",
      "model_module_version": "1.5.0",
      "model_name": "HTMLModel",
      "state": {
       "layout": "IPY_MODEL_422b863d914045be9ffed14c708479af",
       "style": "IPY_MODEL_052d27dd3a7249c990c2dddc6c1655eb",
       "value": "<h5>Queue</h5>"
      }
     },
     "2c9c67735adc46058f5228ae97e8c8da": {
      "model_module": "@jupyter-widgets/controls",
      "model_module_version": "1.5.0",
      "model_name": "HTMLModel",
      "state": {
       "layout": "IPY_MODEL_5d4d8fe3412a4568964fe32ffe7aab06",
       "style": "IPY_MODEL_b597452fdd9d48649fadf293d02e3e04",
       "value": "63fe40e94b1d564cec57a857"
      }
     },
     "2d663ba5b95749d2bbf8a40d28d500ee": {
      "model_module": "@jupyter-widgets/controls",
      "model_module_version": "1.5.0",
      "model_name": "HBoxModel",
      "state": {
       "children": [
        "IPY_MODEL_a4d9441e108b417e885a6dc7fc4ef1bc",
        "IPY_MODEL_2c9c67735adc46058f5228ae97e8c8da",
        "IPY_MODEL_a9009df292684ffdac945a2ce8d27498",
        "IPY_MODEL_b074cd03dd2249518cb78e57dbca6925",
        "IPY_MODEL_7657fa0421a54aaa9f64edbdbe778ac2",
        "IPY_MODEL_18df7b2e711b46ad8a935e53115d3bf9"
       ],
       "layout": "IPY_MODEL_d234e2660b68456da4d96445c0ec8632"
      }
     },
     "30491667a3ef4389b3daa54327416f8c": {
      "model_module": "@jupyter-widgets/controls",
      "model_module_version": "1.5.0",
      "model_name": "DescriptionStyleModel",
      "state": {
       "description_width": ""
      }
     },
     "30cbea23c4bd4196a287d55cdfcb2abb": {
      "model_module": "@jupyter-widgets/base",
      "model_module_version": "1.2.0",
      "model_name": "LayoutModel",
      "state": {
       "width": "95px"
      }
     },
     "3b2836bc8aa646a3ba71e5dcb49cd562": {
      "model_module": "@jupyter-widgets/controls",
      "model_module_version": "1.5.0",
      "model_name": "ButtonStyleModel",
      "state": {}
     },
     "422b863d914045be9ffed14c708479af": {
      "model_module": "@jupyter-widgets/base",
      "model_module_version": "1.2.0",
      "model_name": "LayoutModel",
      "state": {
       "width": "70px"
      }
     },
     "4520070eb70d4bde9f8c0305937b4e17": {
      "model_module": "@jupyter-widgets/controls",
      "model_module_version": "1.5.0",
      "model_name": "GridBoxModel",
      "state": {
       "children": [
        "IPY_MODEL_85ace1444fcc4a368f27b29d1d3817c9"
       ],
       "layout": "IPY_MODEL_f2c2b518765f4b9286c4907ae3c589d2"
      }
     },
     "4832ac5aa2d14ceb82ce06bc5999a6f1": {
      "model_module": "@jupyter-widgets/base",
      "model_module_version": "1.2.0",
      "model_name": "LayoutModel",
      "state": {
       "width": "145px"
      }
     },
     "583dbaf431c94624b120fd8051ef2f03": {
      "model_module": "@jupyter-widgets/controls",
      "model_module_version": "1.5.0",
      "model_name": "HTMLModel",
      "state": {
       "layout": "IPY_MODEL_8441b9116bb940f184d7227a8a389d21",
       "style": "IPY_MODEL_870627b07bea48e08ab2eb7fc0c484f4",
       "value": "<h5>Backend</h5>"
      }
     },
     "5d4d8fe3412a4568964fe32ffe7aab06": {
      "model_module": "@jupyter-widgets/base",
      "model_module_version": "1.2.0",
      "model_name": "LayoutModel",
      "state": {
       "width": "190px"
      }
     },
     "5d845003c8a34e80aa79cace267a9d23": {
      "model_module": "@jupyter-widgets/base",
      "model_module_version": "1.2.0",
      "model_name": "LayoutModel",
      "state": {
       "width": "95px"
      }
     },
     "6bdd69fbbd6a4b538ac5078932c2425e": {
      "model_module": "@jupyter-widgets/base",
      "model_module_version": "1.2.0",
      "model_name": "LayoutModel",
      "state": {
       "overflow_x": "scroll"
      }
     },
     "7657fa0421a54aaa9f64edbdbe778ac2": {
      "model_module": "@jupyter-widgets/controls",
      "model_module_version": "1.5.0",
      "model_name": "HTMLModel",
      "state": {
       "layout": "IPY_MODEL_7daba442a9234f628815a225e8087644",
       "style": "IPY_MODEL_a38d9bcec6264634a935ce62e7643d26",
       "value": "50"
      }
     },
     "778a946b35454e96a813d385393dcaa1": {
      "model_module": "@jupyter-widgets/base",
      "model_module_version": "1.2.0",
      "model_name": "LayoutModel",
      "state": {
       "margin": "0px 0px 10px 0px"
      }
     },
     "7daba442a9234f628815a225e8087644": {
      "model_module": "@jupyter-widgets/base",
      "model_module_version": "1.2.0",
      "model_name": "LayoutModel",
      "state": {
       "width": "70px"
      }
     },
     "7ef14b7a80eb49ab9f6e4535788c6c93": {
      "model_module": "@jupyter-widgets/controls",
      "model_module_version": "1.5.0",
      "model_name": "ButtonStyleModel",
      "state": {
       "button_color": "white"
      }
     },
     "82e03a9c3c3d45c7bfd453062becc173": {
      "model_module": "@jupyter-widgets/controls",
      "model_module_version": "1.5.0",
      "model_name": "DescriptionStyleModel",
      "state": {
       "description_width": ""
      }
     },
     "8441b9116bb940f184d7227a8a389d21": {
      "model_module": "@jupyter-widgets/base",
      "model_module_version": "1.2.0",
      "model_name": "LayoutModel",
      "state": {
       "width": "145px"
      }
     },
     "85ace1444fcc4a368f27b29d1d3817c9": {
      "model_module": "@jupyter-widgets/controls",
      "model_module_version": "1.5.0",
      "model_name": "ButtonModel",
      "state": {
       "button_style": "primary",
       "description": "Clear",
       "layout": "IPY_MODEL_da389c799a8e4f16afd2ad6c4964e700",
       "style": "IPY_MODEL_3b2836bc8aa646a3ba71e5dcb49cd562"
      }
     },
     "870627b07bea48e08ab2eb7fc0c484f4": {
      "model_module": "@jupyter-widgets/controls",
      "model_module_version": "1.5.0",
      "model_name": "DescriptionStyleModel",
      "state": {
       "description_width": ""
      }
     },
     "918c32830624422484e673efd01cd1a0": {
      "model_module": "@jupyter-widgets/base",
      "model_module_version": "1.2.0",
      "model_name": "LayoutModel",
      "state": {
       "max_height": "500px",
       "max_width": "750px",
       "overflow_x": "hidden",
       "overflow_y": "scroll",
       "visibility": "visible",
       "width": "auto"
      }
     },
     "969ebabad471447da341add64d58b844": {
      "model_module": "@jupyter-widgets/controls",
      "model_module_version": "1.5.0",
      "model_name": "DescriptionStyleModel",
      "state": {
       "description_width": ""
      }
     },
     "98926506e4244249aedd81d51e3f360c": {
      "model_module": "@jupyter-widgets/controls",
      "model_module_version": "1.5.0",
      "model_name": "VBoxModel",
      "state": {
       "children": [
        "IPY_MODEL_4520070eb70d4bde9f8c0305937b4e17",
        "IPY_MODEL_ae228359aacd475bbc4f3224a4066445",
        "IPY_MODEL_2d663ba5b95749d2bbf8a40d28d500ee"
       ],
       "layout": "IPY_MODEL_fb1ffd738fa94ca2a75f560f448953cb"
      }
     },
     "9a92b48c477d4c42b569013e48eebba8": {
      "model_module": "@jupyter-widgets/base",
      "model_module_version": "1.2.0",
      "model_name": "LayoutModel",
      "state": {
       "width": "190px"
      }
     },
     "a38d9bcec6264634a935ce62e7643d26": {
      "model_module": "@jupyter-widgets/controls",
      "model_module_version": "1.5.0",
      "model_name": "DescriptionStyleModel",
      "state": {
       "description_width": ""
      }
     },
     "a4d9441e108b417e885a6dc7fc4ef1bc": {
      "model_module": "@jupyter-widgets/controls",
      "model_module_version": "1.5.0",
      "model_name": "ButtonModel",
      "state": {
       "icon": "close",
       "layout": "IPY_MODEL_23a6218f2a294920a3d0745781b9c142",
       "style": "IPY_MODEL_7ef14b7a80eb49ab9f6e4535788c6c93"
      }
     },
     "a9009df292684ffdac945a2ce8d27498": {
      "model_module": "@jupyter-widgets/controls",
      "model_module_version": "1.5.0",
      "model_name": "HTMLModel",
      "state": {
       "layout": "IPY_MODEL_4832ac5aa2d14ceb82ce06bc5999a6f1",
       "style": "IPY_MODEL_acf0cbc6bf644a00988adbe29fae8912",
       "value": "ibmq_quito"
      }
     },
     "acf0cbc6bf644a00988adbe29fae8912": {
      "model_module": "@jupyter-widgets/controls",
      "model_module_version": "1.5.0",
      "model_name": "DescriptionStyleModel",
      "state": {
       "description_width": ""
      }
     },
     "ae228359aacd475bbc4f3224a4066445": {
      "model_module": "@jupyter-widgets/controls",
      "model_module_version": "1.5.0",
      "model_name": "HBoxModel",
      "state": {
       "children": [
        "IPY_MODEL_cd879154946b45da9de32935ae4388ab",
        "IPY_MODEL_583dbaf431c94624b120fd8051ef2f03",
        "IPY_MODEL_05a888f06be0441ba4a91aceab0aafc8",
        "IPY_MODEL_27ec1cf18fb246ddb45498a0b6ffebb4",
        "IPY_MODEL_e03016a45e7044a6826cdee8f9ac3dba"
       ],
       "layout": "IPY_MODEL_de5e9b28052e4a8daf10102b162f8bdc"
      }
     },
     "b074cd03dd2249518cb78e57dbca6925": {
      "model_module": "@jupyter-widgets/controls",
      "model_module_version": "1.5.0",
      "model_name": "HTMLModel",
      "state": {
       "layout": "IPY_MODEL_5d845003c8a34e80aa79cace267a9d23",
       "style": "IPY_MODEL_82e03a9c3c3d45c7bfd453062becc173",
       "value": "QUEUED"
      }
     },
     "b597452fdd9d48649fadf293d02e3e04": {
      "model_module": "@jupyter-widgets/controls",
      "model_module_version": "1.5.0",
      "model_name": "DescriptionStyleModel",
      "state": {
       "description_width": ""
      }
     },
     "c08aca9bcf3641de8286664324f4f55e": {
      "model_module": "@jupyter-widgets/controls",
      "model_module_version": "1.5.0",
      "model_name": "HTMLModel",
      "state": {
       "layout": "IPY_MODEL_778a946b35454e96a813d385393dcaa1",
       "style": "IPY_MODEL_969ebabad471447da341add64d58b844",
       "value": "<p style='font-family: IBM Plex Sans, Arial, Helvetica, sans-serif; font-size: 20px; font-weight: medium;'>Circuit Properties</p>"
      }
     },
     "c12eab4c6f3a4e24b58f443913eec97f": {
      "model_module": "@jupyter-widgets/base",
      "model_module_version": "1.2.0",
      "model_name": "LayoutModel",
      "state": {}
     },
     "cd879154946b45da9de32935ae4388ab": {
      "model_module": "@jupyter-widgets/controls",
      "model_module_version": "1.5.0",
      "model_name": "HTMLModel",
      "state": {
       "layout": "IPY_MODEL_9a92b48c477d4c42b569013e48eebba8",
       "style": "IPY_MODEL_1b2c2942ae7d4c1ebf9ba5fda9761813",
       "value": "<h5>Job ID</h5>"
      }
     },
     "d234e2660b68456da4d96445c0ec8632": {
      "model_module": "@jupyter-widgets/base",
      "model_module_version": "1.2.0",
      "model_name": "LayoutModel",
      "state": {
       "max_width": "700px",
       "min_width": "700px"
      }
     },
     "da389c799a8e4f16afd2ad6c4964e700": {
      "model_module": "@jupyter-widgets/base",
      "model_module_version": "1.2.0",
      "model_name": "LayoutModel",
      "state": {
       "grid_area": "right",
       "padding": "0px 0px 0px 0px",
       "width": "70px"
      }
     },
     "de5e9b28052e4a8daf10102b162f8bdc": {
      "model_module": "@jupyter-widgets/base",
      "model_module_version": "1.2.0",
      "model_name": "LayoutModel",
      "state": {
       "margin": "0px 0px 0px 37px",
       "width": "600px"
      }
     },
     "e03016a45e7044a6826cdee8f9ac3dba": {
      "model_module": "@jupyter-widgets/controls",
      "model_module_version": "1.5.0",
      "model_name": "HTMLModel",
      "state": {
       "layout": "IPY_MODEL_c12eab4c6f3a4e24b58f443913eec97f",
       "style": "IPY_MODEL_30491667a3ef4389b3daa54327416f8c",
       "value": "<h5>Message</h5>"
      }
     },
     "f0c529be3d354281984d69df8a458161": {
      "model_module": "@jupyter-widgets/controls",
      "model_module_version": "1.5.0",
      "model_name": "DescriptionStyleModel",
      "state": {
       "description_width": ""
      }
     },
     "f2c2b518765f4b9286c4907ae3c589d2": {
      "model_module": "@jupyter-widgets/base",
      "model_module_version": "1.2.0",
      "model_name": "LayoutModel",
      "state": {
       "grid_template_areas": "\n                                       \". . . . right \"\n                                        ",
       "grid_template_columns": "20% 20% 20% 20% 20%",
       "width": "100%"
      }
     },
     "fb1ffd738fa94ca2a75f560f448953cb": {
      "model_module": "@jupyter-widgets/base",
      "model_module_version": "1.2.0",
      "model_name": "LayoutModel",
      "state": {
       "max_width": "710px",
       "min_width": "710px"
      }
     }
    },
    "version_major": 2,
    "version_minor": 0
   }
  }
 },
 "nbformat": 4,
 "nbformat_minor": 5
}
